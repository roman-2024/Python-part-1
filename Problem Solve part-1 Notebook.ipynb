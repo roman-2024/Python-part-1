{
 "cells": [
  {
   "cell_type": "code",
   "execution_count": 1,
   "id": "8a9a9639-e17e-43c8-aac6-2301d27a9ac3",
   "metadata": {},
   "outputs": [
    {
     "name": "stdout",
     "output_type": "stream",
     "text": [
      "the sum of list1 :  15\n"
     ]
    }
   ],
   "source": [
    "#1. Write a Python program to sum all the items in a list\n",
    "list1=[1,2,3,4,5]\n",
    "sum=0\n",
    "for i in list1:  \n",
    "    sum+=i  # when i=1 ,sum=0+1=1; i=2,sum=1+2=3; i=3,sum=3+3=6; i=4,sum=6+4=10; i=5,sum=10+5=15\n",
    "print(f\"the sum of list1 : \", sum)"
   ]
  },
  {
   "cell_type": "code",
   "execution_count": 2,
   "id": "e39e2a8d-34c7-4bf2-89f6-859a19cf81d0",
   "metadata": {},
   "outputs": [
    {
     "name": "stdout",
     "output_type": "stream",
     "text": [
      "the multiply of list2 :  240000\n"
     ]
    }
   ],
   "source": [
    "#2. Write a Python program to multiplies all the items in a list\n",
    "list2=[10,20,30,40]\n",
    "Num=1\n",
    "for i in list2:\n",
    " Num*=i\n",
    "print(f\"the multiply of list2 : \", Num)"
   ]
  },
  {
   "cell_type": "code",
   "execution_count": 3,
   "id": "37b2c92c-1929-4737-be88-8b064fab33c3",
   "metadata": {},
   "outputs": [
    {
     "name": "stdout",
     "output_type": "stream",
     "text": [
      "The largest number in list3 is:  9\n"
     ]
    }
   ],
   "source": [
    "#3. Write a Python program to get the largest number from a list\n",
    "list3=[2,7,4,6,9,3]\n",
    "list3.sort()\n",
    "print(f\"The largest number in list3 is: \", list3[-1])   "
   ]
  },
  {
   "cell_type": "code",
   "execution_count": 4,
   "id": "1e5a708d-729c-43be-b1cc-566d80a6626e",
   "metadata": {},
   "outputs": [
    {
     "name": "stdout",
     "output_type": "stream",
     "text": [
      "smallest number is :  5\n"
     ]
    }
   ],
   "source": [
    "#4.Write a Python program to get the smallest number from a list.\n",
    "my_list=[10,30,5,70,30,40]\n",
    "min=my_list[0]\n",
    "max=my_list[0]\n",
    "for i in range(len(my_list)):\n",
    "    if my_list[i] > max:\n",
    "        max=my_list[i]\n",
    "    elif my_list[i]< min:\n",
    "        min=my_list[i]\n",
    "\n",
    "print('smallest number is : ', min )\n",
    "#print('largest number is : ', max )"
   ]
  },
  {
   "cell_type": "code",
   "execution_count": 5,
   "id": "17a79f36-e843-4587-ad6d-981a8ce5e4a6",
   "metadata": {},
   "outputs": [
    {
     "name": "stdout",
     "output_type": "stream",
     "text": [
      "2\n"
     ]
    }
   ],
   "source": [
    "\"\"\"5. Write a Python program to count the number of strings where the string length\n",
    "is 2 or more and the first and last character are same from a given list of strings.\n",
    "\n",
    "Sample List : ['abc', 'xyz', 'aba', '1221']\"\"\"\n",
    "\n",
    "\n",
    "sample_list=['abc', 'xyz', 'aba', '1221']\n",
    "count=0\n",
    "for i in sample_list:\n",
    "    if len(i) > 1 and i[0]==i[-1]:\n",
    "        count+=1\n",
    "print(count)"
   ]
  },
  {
   "cell_type": "code",
   "execution_count": 6,
   "id": "6e197e46-4530-49f1-834c-c8159c6fd37a",
   "metadata": {},
   "outputs": [
    {
     "name": "stdout",
     "output_type": "stream",
     "text": [
      "[11, 12, 15, 13, 17, 20]\n"
     ]
    }
   ],
   "source": [
    "#7. Write a Python program to remove duplicates from a list\n",
    "my_list=[11,12,15,11,13,17,12,20]\n",
    "unique_list=[]\n",
    "for item in my_list:\n",
    "    if item not in unique_list:\n",
    "        unique_list.append(item)\n",
    "print(unique_list)"
   ]
  },
  {
   "cell_type": "code",
   "execution_count": 38,
   "id": "ca890214-5e93-44db-964c-0b8280117264",
   "metadata": {},
   "outputs": [
    {
     "name": "stdout",
     "output_type": "stream",
     "text": [
      "[(2, 1), (2, 3), (4, 4), (3, 5), (2, 7)]\n"
     ]
    }
   ],
   "source": [
    "# 6.6. Write a Python program to get a list, sorted in increasing order by the last\n",
    "#   element in each tuple from a given list of non-empty tuples\n",
    "t=[(3,5),(2,7),(4,4),(2,3),(2,1)]\n",
    "for i in range(len(t)):\n",
    "    for j in range(len(t)):\n",
    "        if t[i][1]<t[j][1]:\n",
    "            t[i],t[j]=t[j],t[i]\n",
    "print(t)"
   ]
  },
  {
   "cell_type": "code",
   "execution_count": 7,
   "id": "b8472e6c-2ce6-4767-8e7c-8eb75b2cfd2c",
   "metadata": {},
   "outputs": [
    {
     "name": "stdout",
     "output_type": "stream",
     "text": [
      "my_list is empty\n"
     ]
    }
   ],
   "source": [
    "#8. Write a Python program to check a list is empty or not.\n",
    "my_list=[]\n",
    "if len(my_list)==0:\n",
    "    print(\"my_list is empty\")\n"
   ]
  },
  {
   "cell_type": "code",
   "execution_count": 8,
   "id": "44a18d33-c901-43ba-9df3-1954963dba34",
   "metadata": {},
   "outputs": [
    {
     "name": "stdout",
     "output_type": "stream",
     "text": [
      "[1, 2, 3]\n",
      "[1, 2, 3]\n"
     ]
    }
   ],
   "source": [
    "#9. Write a Python program to clone or copy a list\n",
    "my_list=[1,2,3]\n",
    "copy_list=list(my_list)\n",
    "print(my_list)\n",
    "print(copy_list)"
   ]
  },
  {
   "cell_type": "code",
   "execution_count": 9,
   "id": "107471a7-d77d-4fcf-8a84-97e25af3a110",
   "metadata": {},
   "outputs": [
    {
     "name": "stdout",
     "output_type": "stream",
     "text": [
      "['Write', 'Python', 'program', 'words', 'longer', 'given', 'words']\n"
     ]
    }
   ],
   "source": [
    "#10. Write a Python program to find the list of words that are longer than n from a\n",
    "# given list of words\n",
    "\n",
    "word_len=[]\n",
    "txt=str.split(\"Write a Python program to find the list of words that are longer than n from a given list of words\")\n",
    "for x in txt:\n",
    "  if len(x) > 4:\n",
    "    word_len.append(x)\n",
    "print(word_len)"
   ]
  },
  {
   "cell_type": "code",
   "execution_count": 10,
   "id": "c39f785a-8b06-46de-abe0-84147f016b0e",
   "metadata": {},
   "outputs": [
    {
     "name": "stdout",
     "output_type": "stream",
     "text": [
      "True\n"
     ]
    }
   ],
   "source": [
    "# 11.11. Write a Python function that takes two lists and returns True if they have at\n",
    "#  least one common member\n",
    "list_1=[1,2,3,4]\n",
    "list_2=[4,5,6,7,8]\n",
    "for x in list_1:\n",
    "    for y in list_2:\n",
    "        if(x==y):\n",
    "          print(\"True\")"
   ]
  },
  {
   "cell_type": "code",
   "execution_count": 11,
   "id": "7cfd6385-b095-431a-b188-c88b3dbe4c36",
   "metadata": {},
   "outputs": [
    {
     "name": "stdout",
     "output_type": "stream",
     "text": [
      "['Green', 'White', 'Black']\n"
     ]
    }
   ],
   "source": [
    "# 12. 12. Write a Python program to print a specified list after removing the 0th, 4th\n",
    " #  and 5th elements.\n",
    "\n",
    "Sample_List = ['Red', 'Green', 'White', 'Black', 'Pink', 'Yellow']\n",
    "Sample_List[1:4]\n",
    "\n",
    "# but its some problem ,try another way\n",
    "Sample_List = ['Red', 'Green', 'White', 'Black', 'Pink', 'Yellow']\n",
    "modified_list=[]\n",
    "for i in range(len(Sample_List)):\n",
    "    if i==0 or i==4 or i==5:\n",
    "        continue\n",
    "    else:\n",
    "        modified_list.append(Sample_List[i])\n",
    "print(modified_list)"
   ]
  },
  {
   "cell_type": "code",
   "execution_count": 12,
   "id": "a38d9cb7-827b-4aa5-8164-91d5ecdc2b3a",
   "metadata": {},
   "outputs": [
    {
     "name": "stdout",
     "output_type": "stream",
     "text": [
      "Depth 1\n",
      "* * * *\n",
      "* * * *\n",
      "* * * *\n",
      "Depth 2\n",
      "* * * *\n",
      "* * * *\n",
      "* * * *\n",
      "Depth 3\n",
      "* * * *\n",
      "* * * *\n",
      "* * * *\n",
      "Depth 4\n",
      "* * * *\n",
      "* * * *\n",
      "* * * *\n",
      "Depth 5\n",
      "* * * *\n",
      "* * * *\n",
      "* * * *\n",
      "Depth 6\n",
      "* * * *\n",
      "* * * *\n",
      "* * * *\n",
      "\n"
     ]
    }
   ],
   "source": [
    "# 13. Write a Python program to generate a 3*4*6 3D array whose each element is *\n",
    "# Define dimensions ??\n",
    "\n",
    "# Define the dimensions of the array\n",
    "rows = 3\n",
    "columns = 4\n",
    "depth = 6\n",
    "\n",
    "# Generate the 3D array filled with asterisks\n",
    "array_3d = [[[ '*' for _ in range(columns)] for _ in range(rows)] for _ in range(depth)]\n",
    "\n",
    "# Print the array\n",
    "for i in range(depth):\n",
    "    print(\"Depth\", i+1)\n",
    "    for row in array_3d[i]:\n",
    "        print(' '.join(row))\n",
    "print()\n",
    "\n"
   ]
  },
  {
   "cell_type": "code",
   "execution_count": 13,
   "id": "9128cc18-20eb-447a-ac39-a00e0b5f0a0a",
   "metadata": {},
   "outputs": [
    {
     "name": "stdout",
     "output_type": "stream",
     "text": [
      "[[['*', '*', '*', '*', '*', '*'], ['*', '*', '*', '*', '*', '*'], ['*', '*', '*', '*', '*', '*'], ['*', '*', '*', '*', '*', '*']], [['*', '*', '*', '*', '*', '*'], ['*', '*', '*', '*', '*', '*'], ['*', '*', '*', '*', '*', '*'], ['*', '*', '*', '*', '*', '*']], [['*', '*', '*', '*', '*', '*'], ['*', '*', '*', '*', '*', '*'], ['*', '*', '*', '*', '*', '*'], ['*', '*', '*', '*', '*', '*']]]\n"
     ]
    }
   ],
   "source": [
    "#13. Create a 3D array using list comprehensions, with 3 rows, 4 columns, and each element initialized as '*'\n",
    "array = [[['*' for col in range(6)] for col in range(4)] for row in range(3)]\n",
    "\n",
    "# Print the resulting 3D array\n",
    "print(array)"
   ]
  },
  {
   "cell_type": "code",
   "execution_count": 14,
   "id": "4057804e-d536-457f-8496-914c27756bf8",
   "metadata": {},
   "outputs": [
    {
     "name": "stdout",
     "output_type": "stream",
     "text": [
      "[1, 3, 5, 7, 9]\n"
     ]
    }
   ],
   "source": [
    "# 14. Write a Python program to print the numbers of a specified list after removing\n",
    "#   even numbers from it.\n",
    "\n",
    "my_list=[1,2,3,4,5,6,7,8,9]\n",
    "rem_even=[x for x in my_list if x %2!=0]\n",
    "print(rem_even)"
   ]
  },
  {
   "cell_type": "code",
   "execution_count": 15,
   "id": "52ed7430-42dd-4811-9e88-53f9cf016d04",
   "metadata": {},
   "outputs": [
    {
     "name": "stdout",
     "output_type": "stream",
     "text": [
      "[1, 4, 9, 16, 25, 676, 729, 784, 841, 900]\n",
      "[1, 4, 9, 16, 25]\n",
      "[676, 729, 784, 841, 900]\n"
     ]
    }
   ],
   "source": [
    "#17. Write a Python program to generate and print a list except for the first 5\n",
    "#  elements, where the values are square of numbers between 1 and 30 (both included)\n",
    "l=[]\n",
    "for i in range(1,6):\n",
    "    l.append(i**2)\n",
    "for i in range(26,31):\n",
    "    l.append(i**2)\n",
    "print(l)\n",
    "print(l[:5])\n",
    "print(l[-5:])"
   ]
  },
  {
   "cell_type": "code",
   "execution_count": 16,
   "id": "36656cdd-506c-46c2-b1e5-105b70a9cf47",
   "metadata": {},
   "outputs": [
    {
     "name": "stdout",
     "output_type": "stream",
     "text": [
      "[(1, 2, 3, 4), (1, 2, 4, 3), (1, 3, 2, 4), (1, 3, 4, 2), (1, 4, 2, 3), (1, 4, 3, 2), (2, 1, 3, 4), (2, 1, 4, 3), (2, 3, 1, 4), (2, 3, 4, 1), (2, 4, 1, 3), (2, 4, 3, 1), (3, 1, 2, 4), (3, 1, 4, 2), (3, 2, 1, 4), (3, 2, 4, 1), (3, 4, 1, 2), (3, 4, 2, 1), (4, 1, 2, 3), (4, 1, 3, 2), (4, 2, 1, 3), (4, 2, 3, 1), (4, 3, 1, 2), (4, 3, 2, 1)]\n"
     ]
    }
   ],
   "source": [
    "#18. Write a Python program to generate all permutations of a list in Python.\n",
    "lis=[1,2,3,4]\n",
    "import itertools\n",
    "print(list(itertools.permutations(lis)))"
   ]
  },
  {
   "cell_type": "code",
   "execution_count": 17,
   "id": "bd78dc86-e528-4cde-8b29-06796ac4855e",
   "metadata": {},
   "outputs": [
    {
     "name": "stdout",
     "output_type": "stream",
     "text": [
      "[1]\n",
      "[2, 6, 8, 10, 12]\n"
     ]
    }
   ],
   "source": [
    "# 19. Write a Python program to get the difference between the two lists.\n",
    "# set subtraction formula\n",
    "list1=[1,3,5,7,9]\n",
    "list2=[2,3,5,6,7,8,9,10,12]\n",
    "lis3=list(set(list1)-set(list2))\n",
    "print(lis3) # first braket common are remove\n",
    "lis4=list(set(list2)-set(list1))\n",
    "print(lis4)"
   ]
  },
  {
   "cell_type": "code",
   "execution_count": 18,
   "id": "9f73d822-1c20-4840-84b3-44f48d7441e7",
   "metadata": {},
   "outputs": [
    {
     "name": "stdout",
     "output_type": "stream",
     "text": [
      "0  index of list1: 1\n",
      "1  index of list1: 3\n",
      "2  index of list1: 5\n",
      "3  index of list1: 7\n",
      "4  index of list1: 9\n"
     ]
    }
   ],
   "source": [
    "# 20. Write a Python program access the index of a list.\n",
    "list1=[1,3,5,7,9]\n",
    "for i, index in enumerate(list1):\n",
    "    print(i, f\" index of list1:\", index)"
   ]
  },
  {
   "cell_type": "code",
   "execution_count": 19,
   "id": "bb79c0a2-ca5a-4601-882f-08c5de1b9cb8",
   "metadata": {},
   "outputs": [
    {
     "data": {
      "text/plain": [
       "'i Love  Data Science and  Machine Learning'"
      ]
     },
     "execution_count": 19,
     "metadata": {},
     "output_type": "execute_result"
    }
   ],
   "source": [
    "# 21. 21. Write a Python program to convert a list of characters into a string.\n",
    "list5=[\"i\",\"Love \", \"Data\", \"Science\", \"and\",\" Machine\", \"Learning\"]\n",
    "list5=\" \".join(list5)\n",
    "list5"
   ]
  },
  {
   "cell_type": "code",
   "execution_count": 20,
   "id": "67e0d63b-dc07-4d8f-876d-f6d8650cdbd4",
   "metadata": {},
   "outputs": [
    {
     "name": "stdout",
     "output_type": "stream",
     "text": [
      "Value 30 of num-index is: 2\n"
     ]
    }
   ],
   "source": [
    "#22. Write a Python program to find the index of an item in a specified list.\n",
    "num=[10,20,30,40,-5]\n",
    "print(f\"Value 30 of num-index is:\",num.index(30))"
   ]
  },
  {
   "cell_type": "code",
   "execution_count": 21,
   "id": "ec661c66-9e70-472e-bd22-2e0199ae7525",
   "metadata": {},
   "outputs": [
    {
     "name": "stdout",
     "output_type": "stream",
     "text": [
      "[2, 4, 3, 1, 5, 6, 9, 7, 9, 0]\n"
     ]
    }
   ],
   "source": [
    "# 23. Write a Python program to flatten a shallow list.\n",
    "# Import the 'itertools' module, which provides various functions for working with iterators\n",
    "import itertools\n",
    "original_list = [[2, 4, 3], [1, 5, 6], [9], [7, 9, 0]]\n",
    "new_merged_list = list(itertools.chain(*original_list))\n",
    "print(new_merged_list)"
   ]
  },
  {
   "cell_type": "code",
   "execution_count": 22,
   "id": "7bcd4a6b-759b-46ad-a51d-9eb27da91f77",
   "metadata": {},
   "outputs": [
    {
     "name": "stdout",
     "output_type": "stream",
     "text": [
      "[2, 4, 3, 1, 5, 6, 9, 7, 9, 0]\n"
     ]
    }
   ],
   "source": [
    "# 23 another method with flatten\n",
    "original_list = [[2, 4, 3], [1, 5, 6], [9], [7, 9, 0]]\n",
    "def flatten(original_list):\n",
    "    return[x for sublist in original_list for x in sublist]\n",
    "print(flatten(original_list))"
   ]
  },
  {
   "cell_type": "code",
   "execution_count": 23,
   "id": "afffdbb5-e362-4d03-a05d-d27d8d7a6dd3",
   "metadata": {},
   "outputs": [
    {
     "name": "stdout",
     "output_type": "stream",
     "text": [
      "[1, 2, 3, 4, 5, 'x', 'y', 'z']\n"
     ]
    }
   ],
   "source": [
    "#24. Write a Python program to append a list to the second list\n",
    "list1=[1,2,3,4,5]\n",
    "list2=[\"x\",\"y\",\"z\"]\n",
    "list3=list1+list2\n",
    "print(list3)"
   ]
  },
  {
   "cell_type": "code",
   "execution_count": 24,
   "id": "445a6218-35ac-4737-8937-d1c0501c7923",
   "metadata": {},
   "outputs": [
    {
     "name": "stdout",
     "output_type": "stream",
     "text": [
      "Red\n"
     ]
    }
   ],
   "source": [
    "#25. Write a Python program to select an item randomly from a list\n",
    "import random\n",
    "color_list = ['Red', 'Blue', 'Green', 'White', 'Black']\n",
    "print(random.choice(color_list)) # random.choice func are randomly auto select "
   ]
  },
  {
   "cell_type": "code",
   "execution_count": 25,
   "id": "27346f84-1a86-4524-9731-7099ba41f141",
   "metadata": {},
   "outputs": [],
   "source": [
    "#26. Write a python program to check whether two lists are circularly identical.\n",
    "# SKIP\n"
   ]
  },
  {
   "cell_type": "code",
   "execution_count": 26,
   "id": "4ef51e5b-33e5-4670-8ba3-f8f794b96cf4",
   "metadata": {},
   "outputs": [
    {
     "data": {
      "text/plain": [
       "[0, 2, 3, 3, 4, 4, 6, 6, 7, 9]"
      ]
     },
     "execution_count": 26,
     "metadata": {},
     "output_type": "execute_result"
    }
   ],
   "source": [
    "#27. Write a Python program to find the second smallest number in a list.\n",
    "list1=[7,2,3,4,9,0,3,6,4,6]\n",
    "list1.sort()\n",
    "list1\n",
    "         "
   ]
  },
  {
   "cell_type": "code",
   "execution_count": 27,
   "id": "ad174af5-208a-45d5-8ce8-c0306990e7b1",
   "metadata": {},
   "outputs": [
    {
     "name": "stdout",
     "output_type": "stream",
     "text": [
      "[1, 2, 3, 4, 5, 6, 7, 8]\n"
     ]
    }
   ],
   "source": [
    "# 29. Write a Python program to get unique values from a list.\n",
    "a=[1,2,2,3,4,4,5,6,6,7,8,3]\n",
    "unique=[]\n",
    "for i in a:\n",
    "  if i not in unique:\n",
    "    unique.append(i)\n",
    "print(unique)"
   ]
  },
  {
   "cell_type": "code",
   "execution_count": 28,
   "id": "d121e48f-c4fc-4019-a8e1-7aa6ebeebee7",
   "metadata": {},
   "outputs": [
    {
     "name": "stdout",
     "output_type": "stream",
     "text": [
      "frequency of the elements in the list:  {1: 2, 2: 2, 7: 3, 4: 2, 0: 2, 9: 1, 6: 1, 8: 1, 3: 1}\n"
     ]
    }
   ],
   "source": [
    "#30. Write a Python program to get the frequency of the elements in a list.\n",
    "li=[1,2,7,1,2,7,4,7,0,9,4,0,6,8,3]\n",
    "dic={}\n",
    "for i in li:\n",
    "  dic[i]=li.count(i)\n",
    "print(f\"frequency of the elements in the list: \",dic)"
   ]
  },
  {
   "cell_type": "code",
   "execution_count": 29,
   "id": "9ab8adc1-a2f7-4195-a2a3-7d05a4f337ae",
   "metadata": {},
   "outputs": [
    {
     "name": "stdout",
     "output_type": "stream",
     "text": [
      "[31, 34, 39.38, 37]\n"
     ]
    }
   ],
   "source": [
    "#31. Write a Python program to count the number of elements in a list within a specified range\n",
    "list1=[20,30,31,34,50,30,40,39.38,23,37,40,45,67]\n",
    "new_lis=[]\n",
    "for i in list1:\n",
    "  if i > 30 and i < 40:\n",
    "    new_lis.append(i)\n",
    "print(new_lis)"
   ]
  },
  {
   "cell_type": "code",
   "execution_count": 30,
   "id": "24372519-4824-496d-81fe-7f00c894e567",
   "metadata": {},
   "outputs": [
    {
     "name": "stdout",
     "output_type": "stream",
     "text": [
      "[[1], [1, 2], [1, 2, 3], [1, 2, 3, 4], [1, 2, 3, 4, 5], [2], [2, 3], [2, 3, 4], [2, 3, 4, 5], [3], [3, 4], [3, 4, 5], [4], [4, 5], [5]]\n"
     ]
    }
   ],
   "source": [
    "#33. Write a Python program to check whether a list contains a sublist.\n",
    "lis=[1,2,3,4,5]\n",
    "sub_list=[]\n",
    "for i in range(len(lis)):\n",
    "  for j in range(i+1,len(lis)+1):\n",
    "    sub_list.append(lis[i:j])\n",
    "print(sub_list)"
   ]
  },
  {
   "cell_type": "code",
   "execution_count": 31,
   "id": "40a10faf-2ddc-4cc1-aa60-f71001cb46a1",
   "metadata": {},
   "outputs": [
    {
     "name": "stdout",
     "output_type": "stream",
     "text": [
      "Does main_list contain sublist1? True\n",
      "Does main_list contain sublist2? False\n"
     ]
    }
   ],
   "source": [
    "# 34. Write a Python program using Sieve of Eratosthenes method for computing\n",
    "#   primes upto a specified number (Use Chatgpt)\n",
    "def contains_sublist(main_list, sublist):\n",
    "    # Convert both lists to strings for easy substring search\n",
    "    main_str = ' '.join(map(str, main_list))\n",
    "    sub_str = ' '.join(map(str, sublist))\n",
    "\n",
    "    # Check if sublist is a substring of main_list\n",
    "    if sub_str in main_str:\n",
    "        return True\n",
    "    else:\n",
    "        return False\n",
    "\n",
    "# Example usage:\n",
    "main_list = [1, 2, 3, 4, 5, 6]\n",
    "sublist1 = [3, 4, 5]\n",
    "sublist2 = [7, 8]\n",
    "print(\"Does main_list contain sublist1?\", contains_sublist(main_list, sublist1))\n",
    "print(\"Does main_list contain sublist2?\", contains_sublist(main_list, sublist2))"
   ]
  },
  {
   "cell_type": "code",
   "execution_count": 32,
   "id": "61c61682-aa9e-4607-821f-e435f224a64a",
   "metadata": {},
   "outputs": [
    {
     "name": "stdout",
     "output_type": "stream",
     "text": [
      "['p1', 'q1', 'p2', 'q2', 'p3', 'q3', 'p4', 'q4', 'p5', 'q5']\n"
     ]
    }
   ],
   "source": [
    "#35. Write a Python program to create a list by concatenating a given list with a range from 1 to n.\n",
    "#   Sample list\n",
    "lis=[\"p\",\"q\"]\n",
    "new=[]\n",
    "for i in range(1,6):\n",
    "  for j in lis:\n",
    "    s=j+str(i)\n",
    "    new.append(s)\n",
    "print(new)"
   ]
  },
  {
   "cell_type": "code",
   "execution_count": 33,
   "id": "6baaeb24-88b1-488f-9673-c70fbba42ab9",
   "metadata": {},
   "outputs": [
    {
     "name": "stdout",
     "output_type": "stream",
     "text": [
      "140732244805960\n",
      "140732243542768\n"
     ]
    }
   ],
   "source": [
    "#36. Write a Python program to get variable unique identification number or string.\n",
    "x=50\n",
    "y=\"x\"\n",
    "print(format(id(x)))\n",
    "print(format(id(y)))"
   ]
  },
  {
   "cell_type": "code",
   "execution_count": 34,
   "id": "f86e613d-2f28-44ce-a955-3e0343410b50",
   "metadata": {},
   "outputs": [
    {
     "name": "stdout",
     "output_type": "stream",
     "text": [
      "common items;  [4, 5, 6, 7]\n"
     ]
    }
   ],
   "source": [
    "#37. Write a Python program to find common items from two lists\n",
    "list1=[2,3,4,5,6,7]\n",
    "list2=[4,5,6,7,8,9]\n",
    "new=[]\n",
    "for i in list1:\n",
    "  if i in list2:\n",
    "    new.append(i)\n",
    "print(f\"common items; \", new)"
   ]
  },
  {
   "cell_type": "code",
   "execution_count": 35,
   "id": "18f0c881-a92b-4044-945e-8e9836de81aa",
   "metadata": {},
   "outputs": [
    {
     "name": "stdout",
     "output_type": "stream",
     "text": [
      "change the position of list_n is : [3, 1, 7, 5, 11, 9]\n"
     ]
    }
   ],
   "source": [
    "#38. Write a Python program to change the position of every n-th value with the\n",
    "#   (n+1)th in a list.\n",
    "\n",
    "list_n=[1,3,5,7,9,11]\n",
    "for i in range(0,len(list_n),2):\n",
    "  x=list_n[i]\n",
    "  list_n[i]=list_n[i+1]\n",
    "  list_n[i+1]=x\n",
    "print(f\"change the position of list_n is :\",list_n)"
   ]
  },
  {
   "cell_type": "code",
   "execution_count": 36,
   "id": "58947a1b-00e7-418f-b794-c53515dcedd0",
   "metadata": {},
   "outputs": [
    {
     "name": "stdout",
     "output_type": "stream",
     "text": [
      "multiple integers into a single integer is :  12345678\n"
     ]
    }
   ],
   "source": [
    "#39. Write a Python program to convert a list of multiple integers into a single\n",
    "#    integer\n",
    "list_int=[12,34,56,78]\n",
    "x=int(\"\".join(map(str,list_int)))\n",
    "print(f\"multiple integers into a single integer is : \", x)"
   ]
  },
  {
   "cell_type": "code",
   "execution_count": 37,
   "id": "a616a818-6535-484a-905a-ec04ecfa560d",
   "metadata": {},
   "outputs": [
    {
     "name": "stdout",
     "output_type": "stream",
     "text": [
      "{'a': ['apple', 'avocado'], 'b': ['banana'], 'o': ['orange'], 'p': ['pear'], 'k': ['kiwi']}\n"
     ]
    }
   ],
   "source": [
    "#40.Write a Python program to split a list based on the first character of a word (Use chstgpt)\n",
    "def split_char_list(word_list):\n",
    "    split_dict = {}\n",
    "    for word in word_list:\n",
    "        first_char = word[0]\n",
    "        if first_char in split_dict:\n",
    "            split_dict[first_char].append(word)\n",
    "        else:\n",
    "            split_dict[first_char] = [word]\n",
    "    return split_dict\n",
    "word_list = [\"apple\", \"banana\", \"orange\", \"avocado\", \"pear\", \"kiwi\"]\n",
    "result = split_char_list(word_list)\n",
    "print(result)\n"
   ]
  },
  {
   "cell_type": "code",
   "execution_count": null,
   "id": "5e8d6e68-d826-42de-a985-7985c10067ce",
   "metadata": {},
   "outputs": [],
   "source": []
  }
 ],
 "metadata": {
  "kernelspec": {
   "display_name": "Python 3 (ipykernel)",
   "language": "python",
   "name": "python3"
  },
  "language_info": {
   "codemirror_mode": {
    "name": "ipython",
    "version": 3
   },
   "file_extension": ".py",
   "mimetype": "text/x-python",
   "name": "python",
   "nbconvert_exporter": "python",
   "pygments_lexer": "ipython3",
   "version": "3.11.7"
  }
 },
 "nbformat": 4,
 "nbformat_minor": 5
}
