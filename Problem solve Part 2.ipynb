{
 "cells": [
  {
   "cell_type": "code",
   "execution_count": null,
   "id": "2a94d7d9-1439-404a-b1fc-1150a08bd1af",
   "metadata": {},
   "outputs": [],
   "source": [
    "# 1. Write a Python program to swap the values of two variables without using a temporary variable."
   ]
  },
  {
   "cell_type": "code",
   "execution_count": 1,
   "id": "f676b483",
   "metadata": {},
   "outputs": [
    {
     "name": "stdout",
     "output_type": "stream",
     "text": [
      "x= 10\n",
      "y= 20\n"
     ]
    }
   ],
   "source": [
    "x=10\n",
    "y=20\n",
    "x,y=y,x\n",
    "print(\"x=\",y)\n",
    "print(\"y=\",x)"
   ]
  },
  {
   "cell_type": "code",
   "execution_count": 2,
   "id": "91d600be",
   "metadata": {
    "scrolled": true
   },
   "outputs": [
    {
     "name": "stdin",
     "output_type": "stream",
     "text": [
      "enter value of first varriabls:  10\n",
      "enter value of second varriabls:  20\n"
     ]
    },
    {
     "name": "stdout",
     "output_type": "stream",
     "text": [
      "a is : 20 b is : 10\n"
     ]
    }
   ],
   "source": [
    "a=int(input('enter value of first varriabls: '))\n",
    "b=int(input('enter value of second varriabls: '))\n",
    "a=a+b\n",
    "b=a-b\n",
    "a=a-b\n",
    "print('a is :',a,     'b is :',b)"
   ]
  },
  {
   "cell_type": "code",
   "execution_count": null,
   "id": "08a94914-9346-4775-b4a8-6738d93ef600",
   "metadata": {},
   "outputs": [],
   "source": [
    "# 2.Write a Python program that takes an integer as input and prints whether it is even or odd."
   ]
  },
  {
   "cell_type": "code",
   "execution_count": 3,
   "id": "1390cc67",
   "metadata": {},
   "outputs": [
    {
     "name": "stdin",
     "output_type": "stream",
     "text": [
      "enter a number: 11\n"
     ]
    },
    {
     "name": "stdout",
     "output_type": "stream",
     "text": [
      "odd number\n"
     ]
    }
   ],
   "source": [
    " n=int(input('enter a number:'))\n",
    "if n%2==0:\n",
    "    print('even number')\n",
    "else:\n",
    "    print('odd number')\n"
   ]
  },
  {
   "cell_type": "code",
   "execution_count": null,
   "id": "1eab4a84-2399-4174-858e-2ccf7e1616cf",
   "metadata": {},
   "outputs": [],
   "source": [
    "# 3. Write a Python function to reverse a given string and return the reversed string."
   ]
  },
  {
   "cell_type": "code",
   "execution_count": 4,
   "id": "1497d472",
   "metadata": {},
   "outputs": [
    {
     "name": "stdin",
     "output_type": "stream",
     "text": [
      "enter string: ROMAN AHMED\n"
     ]
    },
    {
     "name": "stdout",
     "output_type": "stream",
     "text": [
      "DEMHA NAMOR\n"
     ]
    }
   ],
   "source": [
    "name=input(\"enter string:\")\n",
    "print(name[-1::-1])"
   ]
  },
  {
   "cell_type": "code",
   "execution_count": null,
   "id": "4e762338-75ce-412e-8f62-13216692aa58",
   "metadata": {},
   "outputs": [],
   "source": [
    "# 4.Given a list of integers, write a Python program to convert each element of the list to a string in python"
   ]
  },
  {
   "cell_type": "code",
   "execution_count": 5,
   "id": "ce05dfe1",
   "metadata": {},
   "outputs": [
    {
     "name": "stdout",
     "output_type": "stream",
     "text": [
      "['1', '2', '3', '4', '5']\n"
     ]
    }
   ],
   "source": [
    "list=[1,2,3,4,5]\n",
    "list1=[str(item) for item in list]\n",
    "print(list1)"
   ]
  },
  {
   "cell_type": "code",
   "execution_count": null,
   "id": "ba6f9796-64d4-4762-9e5c-2389dcfd3311",
   "metadata": {},
   "outputs": [],
   "source": [
    "# 5.Write a Python program that converts a temperature in Celsius to Fahrenheit. Take the Celsius temperature as input from the user."
   ]
  },
  {
   "cell_type": "code",
   "execution_count": 6,
   "id": "c6392690",
   "metadata": {},
   "outputs": [
    {
     "name": "stdin",
     "output_type": "stream",
     "text": [
      "enter temperature in celsius: 41\n"
     ]
    },
    {
     "name": "stdout",
     "output_type": "stream",
     "text": [
      "105.8\n"
     ]
    }
   ],
   "source": [
    "celsius=int(input(\"enter temperature in celsius:\"))\n",
    "fahrenheit=(celsius*1.8)+32\n",
    "print(fahrenheit)"
   ]
  },
  {
   "cell_type": "code",
   "execution_count": null,
   "id": "2d3b069a-c1b8-4479-ae2b-ee9a9ed2f188",
   "metadata": {},
   "outputs": [],
   "source": [
    "# 6. Write a Python function that takes a variable as input and returns the data type of the variable as a string ."
   ]
  },
  {
   "cell_type": "code",
   "execution_count": 7,
   "id": "d82ae390",
   "metadata": {},
   "outputs": [
    {
     "data": {
      "text/plain": [
       "str"
      ]
     },
     "execution_count": 7,
     "metadata": {},
     "output_type": "execute_result"
    }
   ],
   "source": [
    "a='2'\n",
    "type(a)"
   ]
  },
  {
   "cell_type": "code",
   "execution_count": null,
   "id": "77f94ce7",
   "metadata": {},
   "outputs": [],
   "source": []
  },
  {
   "cell_type": "code",
   "execution_count": null,
   "id": "cb1c88da",
   "metadata": {},
   "outputs": [],
   "source": []
  },
  {
   "cell_type": "code",
   "execution_count": null,
   "id": "9c7a52fd-016f-48b8-b9b7-767c9a83da58",
   "metadata": {},
   "outputs": [],
   "source": [
    "# 7.Write a Python function to check if a given string is a palindrome or not."
   ]
  },
  {
   "cell_type": "code",
   "execution_count": 8,
   "id": "8c1f8aa1",
   "metadata": {},
   "outputs": [
    {
     "name": "stdin",
     "output_type": "stream",
     "text": [
      "enter a string: Ratar\n"
     ]
    },
    {
     "name": "stdout",
     "output_type": "stream",
     "text": [
      "Ratar is not palindrome\n"
     ]
    }
   ],
   "source": [
    "n=input(\"enter a string:\")\n",
    "if n==n[::-1]:\n",
    "    print(n+ \" is palindrome\")\n",
    "else:\n",
    "    print(n+ \" is not palindrome\")"
   ]
  },
  {
   "cell_type": "code",
   "execution_count": null,
   "id": "d2437315-69cc-4fc7-b891-78d305419551",
   "metadata": {},
   "outputs": [],
   "source": [
    "# 8.Write a Python function to reverse a given string using slicing."
   ]
  },
  {
   "cell_type": "code",
   "execution_count": 9,
   "id": "078a0ece",
   "metadata": {},
   "outputs": [
    {
     "name": "stdout",
     "output_type": "stream",
     "text": [
      "dlrow olleh\n"
     ]
    }
   ],
   "source": [
    "s= \"hello world\"\n",
    "print(s[::-1])"
   ]
  },
  {
   "cell_type": "code",
   "execution_count": null,
   "id": "0bba4c4f-ff68-47f4-9aab-2a9671e18548",
   "metadata": {},
   "outputs": [],
   "source": [
    "# 9. Write a Python program that takes two strings as input and concatenates them into a single string without using the `+` operator."
   ]
  },
  {
   "cell_type": "code",
   "execution_count": 10,
   "id": "cd4fec17",
   "metadata": {},
   "outputs": [
    {
     "name": "stdin",
     "output_type": "stream",
     "text": [
      "enter 1st string:  data\n",
      "enter 2nd string:  science\n"
     ]
    },
    {
     "name": "stdout",
     "output_type": "stream",
     "text": [
      "('data', 'science')\n"
     ]
    }
   ],
   "source": [
    "n1=input('enter 1st string: ')\n",
    "n2=input(\"enter 2nd string: \")\n",
    "p=(n1, n2)\n",
    "add=p\n",
    "print(add)\n"
   ]
  },
  {
   "cell_type": "code",
   "execution_count": 11,
   "id": "8f579d0f",
   "metadata": {},
   "outputs": [
    {
     "name": "stdin",
     "output_type": "stream",
     "text": [
      "enter 1st string:  machine\n",
      "enter 2nd string:  learning\n"
     ]
    },
    {
     "name": "stdout",
     "output_type": "stream",
     "text": [
      "machinelearning\n"
     ]
    }
   ],
   "source": [
    "n1=input('enter 1st string: ')\n",
    "n2=input(\"enter 2nd string: \")\n",
    "add=( n1+\"\"+n2)\n",
    "print(add)"
   ]
  },
  {
   "cell_type": "code",
   "execution_count": null,
   "id": "fc6a6c98-d812-4d7c-86d7-195eac9a0303",
   "metadata": {},
   "outputs": [],
   "source": [
    "# 10.Typecasting challenge"
   ]
  },
  {
   "cell_type": "code",
   "execution_count": 12,
   "id": "e96707a4",
   "metadata": {},
   "outputs": [
    {
     "name": "stdout",
     "output_type": "stream",
     "text": [
      "125\n"
     ]
    }
   ],
   "source": [
    "a=int('100')\n",
    "b=25\n",
    "first_operation=a+b\n",
    "c=float(\"10.5\")\n",
    "result=first_operation\n",
    "print(result)"
   ]
  },
  {
   "cell_type": "code",
   "execution_count": null,
   "id": "d0e3d214-9df4-46dc-9250-e51440619047",
   "metadata": {},
   "outputs": [],
   "source": [
    "# 11.Write a Python program that takes a number as input and prints whether it is positive, negative, or zero."
   ]
  },
  {
   "cell_type": "code",
   "execution_count": 13,
   "id": "f571ddf7",
   "metadata": {},
   "outputs": [
    {
     "name": "stdin",
     "output_type": "stream",
     "text": [
      "enter a number: 11\n"
     ]
    },
    {
     "name": "stdout",
     "output_type": "stream",
     "text": [
      "this number is positive\n"
     ]
    }
   ],
   "source": [
    "a=int(input('enter a number:'))\n",
    "if a>0:\n",
    "    print('this number is positive')\n",
    "elif a<0:\n",
    "    print('this number is negetive')\n",
    "else:\n",
    "    print(\"this number is zero\")\n"
   ]
  },
  {
   "cell_type": "code",
   "execution_count": null,
   "id": "2ff81d8f-57e4-45b1-97e2-5b747c6c88e9",
   "metadata": {},
   "outputs": [],
   "source": [
    "# 12.Largest of Three Numbers: Write a Python program that takes three numbers as input and prints the largest among them."
   ]
  },
  {
   "cell_type": "code",
   "execution_count": 14,
   "id": "a3664df5",
   "metadata": {},
   "outputs": [
    {
     "name": "stdin",
     "output_type": "stream",
     "text": [
      "enter first number :  12\n",
      "enter second number : 34\n",
      "enter third number :  21\n"
     ]
    },
    {
     "name": "stdout",
     "output_type": "stream",
     "text": [
      " 12, 34 and 21 in betwen 34 large number.\n"
     ]
    }
   ],
   "source": [
    "a=int(input(\"enter first number : \"))\n",
    "b=int(input(\"enter second number :\"))\n",
    "c=int(input(\"enter third number : \"))\n",
    "if a>b and a>c:\n",
    "    largest=a\n",
    "elif b>c and b>a:\n",
    "    largest=b\n",
    "else:\n",
    "    largest=c\n",
    "print(\" {}, {} and {} in betwen {} large number.\".format(a,b,c,largest))  "
   ]
  },
  {
   "cell_type": "code",
   "execution_count": null,
   "id": "7d010098-ccd8-4a11-8539-320e8d2e3caf",
   "metadata": {},
   "outputs": [],
   "source": [
    "# OR"
   ]
  },
  {
   "cell_type": "code",
   "execution_count": 15,
   "id": "127de4d9",
   "metadata": {},
   "outputs": [
    {
     "name": "stdout",
     "output_type": "stream",
     "text": [
      "12\n"
     ]
    }
   ],
   "source": [
    "x = 10\n",
    "y = 6\n",
    "z = 12\n",
    "large = max(x,y,z)\n",
    "print(large)"
   ]
  },
  {
   "cell_type": "code",
   "execution_count": null,
   "id": "3c09eab7-6400-410e-978c-76ae17d06b79",
   "metadata": {},
   "outputs": [],
   "source": [
    "# 13.Write a Python program that takes a year as input and determines if it is a leap year or not."
   ]
  },
  {
   "cell_type": "code",
   "execution_count": 16,
   "id": "5f17f917",
   "metadata": {},
   "outputs": [
    {
     "name": "stdin",
     "output_type": "stream",
     "text": [
      "enter the year:   2024\n"
     ]
    },
    {
     "name": "stdout",
     "output_type": "stream",
     "text": [
      "it is a leap year\n"
     ]
    }
   ],
   "source": [
    "year=int(input(\"enter the year:  \"))\n",
    "if year%4==0:\n",
    "    print(\"it is a leap year\")\n",
    "else:\n",
    "    print(\"it is not leap year\")"
   ]
  },
  {
   "cell_type": "code",
   "execution_count": null,
   "id": "2d9eb3ab-f7a0-4bd2-aacd-98f003065ab4",
   "metadata": {},
   "outputs": [],
   "source": [
    "# 14. Grades Classification"
   ]
  },
  {
   "cell_type": "code",
   "execution_count": 17,
   "id": "06a2cd95",
   "metadata": {},
   "outputs": [
    {
     "name": "stdin",
     "output_type": "stream",
     "text": [
      "enter your marks: 45\n"
     ]
    },
    {
     "name": "stdout",
     "output_type": "stream",
     "text": [
      " Fail\n"
     ]
    }
   ],
   "source": [
    "marks=int(input(\"enter your marks:\"))\n",
    "if marks >= 90: \n",
    "    print(\"grade A+\")\n",
    "elif marks>= 80:\n",
    "    print(\"grade A\")\n",
    "elif marks >=70 :\n",
    "    print(\"grade B\")\n",
    "elif marks >=60:\n",
    "    print(\"grade C\")\n",
    "else:\n",
    "    print(\" Fail\")"
   ]
  },
  {
   "cell_type": "code",
   "execution_count": null,
   "id": "e490fe04-3da1-4ffa-ad6d-fd1d35ebb7d3",
   "metadata": {},
   "outputs": [],
   "source": [
    "# 15. Vowel or Consonant"
   ]
  },
  {
   "cell_type": "code",
   "execution_count": 18,
   "id": "bf3cebc1",
   "metadata": {
    "scrolled": true
   },
   "outputs": [
    {
     "name": "stdin",
     "output_type": "stream",
     "text": [
      "enter a letter;  python\n"
     ]
    },
    {
     "name": "stdout",
     "output_type": "stream",
     "text": [
      "its consonant\n"
     ]
    }
   ],
   "source": [
    "letter=input(\"enter a letter; \")\n",
    "if letter in (\"aeiouAEIOU\"):\n",
    "    print(\"its vowel:\", letter)\n",
    "else:\n",
    "    print(\"its consonant\")"
   ]
  },
  {
   "cell_type": "code",
   "execution_count": null,
   "id": "e8c895fc-fa7d-4300-89ba-23fe2081b4df",
   "metadata": {},
   "outputs": [],
   "source": [
    "# 16. Time Classification"
   ]
  },
  {
   "cell_type": "code",
   "execution_count": 19,
   "id": "efaa9312",
   "metadata": {},
   "outputs": [
    {
     "name": "stdin",
     "output_type": "stream",
     "text": [
      "Enter the hour (0-23):  21\n"
     ]
    },
    {
     "data": {
      "text/plain": [
       "'Good Evening'"
      ]
     },
     "execution_count": 19,
     "metadata": {},
     "output_type": "execute_result"
    }
   ],
   "source": [
    "def greeting(hour):\n",
    "    if 5 <= hour < 12:  # From 5:00 to 11:59\n",
    "        return \"Good Morning\"\n",
    "    elif 12 <= hour < 18:  # From 12:00 to 17:59\n",
    "        return \"Good Afternoon\"\n",
    "    elif 18 <= hour < 22:  # From 18:00 to 21:59\n",
    "        return \"Good Evening\"\n",
    "    else:  # From 22:00 to 4:59\n",
    "        return \"Good Night\"\n",
    "\n",
    "hour_input = int(input(\"Enter the hour (0-23): \"))\n",
    "greeting = greeting(hour_input)\n",
    "greeting"
   ]
  },
  {
   "cell_type": "code",
   "execution_count": null,
   "id": "c362208a-aa2f-410d-90b9-c6f5141ae615",
   "metadata": {},
   "outputs": [],
   "source": [
    "# 17. Triangle Type Checker"
   ]
  },
  {
   "cell_type": "code",
   "execution_count": 20,
   "id": "efa6bcf3",
   "metadata": {},
   "outputs": [
    {
     "name": "stdin",
     "output_type": "stream",
     "text": [
      "enter 1st number  2\n",
      "enter 2nd number  3\n",
      "enter 3rd number  4\n"
     ]
    },
    {
     "name": "stdout",
     "output_type": "stream",
     "text": [
      "scalene triangle\n"
     ]
    }
   ],
   "source": [
    "a=int(input(\"enter 1st number \"))\n",
    "b=int(input(\"enter 2nd number \"))\n",
    "c=int(input(\"enter 3rd number \"))\n",
    "if a==b==c:\n",
    "    print(\"it is equilateral triangle\")\n",
    "elif a==b or  b==c or a==c:\n",
    "    print(\"it is isosceles triangle \")\n",
    "else:\n",
    "    print(\"scalene triangle\")"
   ]
  },
  {
   "cell_type": "code",
   "execution_count": null,
   "id": "db2f8362-cc27-4486-80bd-68132e99f62b",
   "metadata": {},
   "outputs": [],
   "source": [
    "# 18. Quadratic Equation Solver"
   ]
  },
  {
   "cell_type": "code",
   "execution_count": 21,
   "id": "8e571b92",
   "metadata": {},
   "outputs": [],
   "source": [
    "import cmath"
   ]
  },
  {
   "cell_type": "code",
   "execution_count": 22,
   "id": "597fc0ee",
   "metadata": {},
   "outputs": [
    {
     "name": "stdin",
     "output_type": "stream",
     "text": [
      "enter number(a!=0): 2\n",
      "enter number:  3\n",
      "enter number:  4\n"
     ]
    },
    {
     "name": "stdout",
     "output_type": "stream",
     "text": [
      "the roots are (-0.75-1.1989578808281798j) and (-0.75+1.1989578808281798j)\n"
     ]
    }
   ],
   "source": [
    "a=int(input(\"enter number(a!=0):\"))\n",
    "b=int(input(\"enter number: \"))\n",
    "c=int(input(\"enter number: \"))\n",
    "d=b**2-4*a*c\n",
    "root1=(-b-cmath.sqrt(d))/(2*a)\n",
    "root2=(-b+cmath.sqrt(d))/(2*a)\n",
    "print(\"the roots are\", root1, \"and\", root2)"
   ]
  },
  {
   "cell_type": "code",
   "execution_count": null,
   "id": "c067839e-e270-42a0-84f7-68886ce4bfd7",
   "metadata": {},
   "outputs": [],
   "source": [
    "# 19. Number Ranges"
   ]
  },
  {
   "cell_type": "code",
   "execution_count": 23,
   "id": "30c312d2",
   "metadata": {},
   "outputs": [
    {
     "name": "stdin",
     "output_type": "stream",
     "text": [
      "enter a number:  123\n"
     ]
    },
    {
     "name": "stdout",
     "output_type": "stream",
     "text": [
      "101-150\n"
     ]
    }
   ],
   "source": [
    "a=int(input(\"enter a number: \"))\n",
    "a in range(0,150)\n",
    "if 0<a<=50:\n",
    "    print(\"0-50\")\n",
    "elif a>50 and a<=100:\n",
    "    print(\"51-100\")\n",
    "else:\n",
    "    print(\"101-150\")"
   ]
  },
  {
   "cell_type": "code",
   "execution_count": null,
   "id": "7465d8f0-007a-44f6-90de-9a3f5ea6bbff",
   "metadata": {},
   "outputs": [],
   "source": [
    "# 20.Sum of N Numbers"
   ]
  },
  {
   "cell_type": "code",
   "execution_count": 24,
   "id": "e1b5b31d",
   "metadata": {},
   "outputs": [
    {
     "name": "stdin",
     "output_type": "stream",
     "text": [
      "enter number :  10\n"
     ]
    },
    {
     "name": "stdout",
     "output_type": "stream",
     "text": [
      "sum 55\n"
     ]
    }
   ],
   "source": [
    "n=int(input(\"enter number : \"))\n",
    "sum=0\n",
    "i=1\n",
    "while (i<=n):\n",
    "    sum=sum+i\n",
    "    i=i+1\n",
    "print('sum', sum)"
   ]
  },
  {
   "cell_type": "markdown",
   "id": "20877e5c",
   "metadata": {},
   "source": [
    "## "
   ]
  },
  {
   "cell_type": "code",
   "execution_count": 25,
   "id": "15e85681",
   "metadata": {},
   "outputs": [
    {
     "name": "stdin",
     "output_type": "stream",
     "text": [
      "enter a number 10\n"
     ]
    },
    {
     "name": "stdout",
     "output_type": "stream",
     "text": [
      "55.0\n"
     ]
    }
   ],
   "source": [
    "n=int(input(\"enter a number\"))\n",
    "sum=n*(n+1)/2\n",
    "print(sum)"
   ]
  },
  {
   "cell_type": "code",
   "execution_count": null,
   "id": "c3abf666-2748-4e27-a5ca-76105fd0d770",
   "metadata": {},
   "outputs": [],
   "source": [
    "# 21. Factorial Calculator"
   ]
  },
  {
   "cell_type": "code",
   "execution_count": 26,
   "id": "596649d2",
   "metadata": {},
   "outputs": [
    {
     "name": "stdin",
     "output_type": "stream",
     "text": [
      "enter a number: ! 5\n"
     ]
    },
    {
     "name": "stdout",
     "output_type": "stream",
     "text": [
      "120\n"
     ]
    }
   ],
   "source": [
    "a=int(input(\"enter a number: !\"))\n",
    "factorial=1\n",
    "while(a>1):\n",
    "    factorial=factorial*a\n",
    "    a=a-1\n",
    "print(factorial)"
   ]
  },
  {
   "cell_type": "code",
   "execution_count": null,
   "id": "eac588f0-ae59-4b19-ab2c-7d75d54fa953",
   "metadata": {},
   "outputs": [],
   "source": [
    "# 22. Table of a Number"
   ]
  },
  {
   "cell_type": "code",
   "execution_count": 27,
   "id": "ddc81b25",
   "metadata": {},
   "outputs": [
    {
     "name": "stdin",
     "output_type": "stream",
     "text": [
      "enter a number:  5\n"
     ]
    },
    {
     "name": "stdout",
     "output_type": "stream",
     "text": [
      "5 * 1 = 5\n",
      "5 * 2 = 10\n",
      "5 * 3 = 15\n",
      "5 * 4 = 20\n",
      "5 * 5 = 25\n",
      "5 * 6 = 30\n",
      "5 * 7 = 35\n",
      "5 * 8 = 40\n",
      "5 * 9 = 45\n",
      "5 * 10 = 50\n"
     ]
    }
   ],
   "source": [
    "n=int(input(\"enter a number: \"))\n",
    "for i in range(1,11):\n",
    "    print(n, \"*\", i ,\"=\",(n*i))"
   ]
  },
  {
   "cell_type": "code",
   "execution_count": null,
   "id": "34f4abda-8c8c-4c2b-8f69-61d7fab055e2",
   "metadata": {},
   "outputs": [],
   "source": [
    "# 23. Count Digits in a Number"
   ]
  },
  {
   "cell_type": "code",
   "execution_count": 28,
   "id": "27bb4c1a",
   "metadata": {},
   "outputs": [
    {
     "name": "stdin",
     "output_type": "stream",
     "text": [
      "enter a number:  5\n"
     ]
    },
    {
     "name": "stdout",
     "output_type": "stream",
     "text": [
      "digit numberb is 1\n"
     ]
    }
   ],
   "source": [
    "a=int(input(\"enter a number: \"))\n",
    "count=0\n",
    "while a!=0:\n",
    "    a=a//10\n",
    "    count+=1\n",
    "print( 'digit numberb is', count )\n",
    "    "
   ]
  },
  {
   "cell_type": "code",
   "execution_count": null,
   "id": "7493474b-c1ee-4a5e-86c4-6667fbad26ea",
   "metadata": {},
   "outputs": [],
   "source": [
    "# 24. Fibonacci Sequence"
   ]
  },
  {
   "cell_type": "code",
   "execution_count": null,
   "id": "53e9a8fd-ff5f-4643-83cb-546b8e4559f9",
   "metadata": {},
   "outputs": [],
   "source": [
    "n=int(input(\"enter a number:\"))\n",
    "a=0\n",
    "b=1\n",
    "c=0\n",
    "for x in range(n):\n",
    "    print(c,end=\" , \")\n",
    "    c=a+b\n",
    "    b=a\n",
    "    a=c\n",
    "print()"
   ]
  },
  {
   "cell_type": "code",
   "execution_count": null,
   "id": "d975200b-2055-42d8-b41b-450d8ba05801",
   "metadata": {},
   "outputs": [],
   "source": [
    "# 25. Sum of Even Numbers:"
   ]
  },
  {
   "cell_type": "code",
   "execution_count": 29,
   "id": "f74d1215",
   "metadata": {
    "scrolled": true
   },
   "outputs": [
    {
     "name": "stdin",
     "output_type": "stream",
     "text": [
      "enter a number:  20\n"
     ]
    },
    {
     "name": "stdout",
     "output_type": "stream",
     "text": [
      "sum of even number= 110\n"
     ]
    }
   ],
   "source": [
    "n=int(input(\"enter a number: \"))\n",
    "i=2\n",
    "sum=0\n",
    "while (i<=n):\n",
    "    sum=sum+i\n",
    "    i=i+2\n",
    "print(\"sum of even number=\",sum)"
   ]
  },
  {
   "cell_type": "code",
   "execution_count": null,
   "id": "386de689-8f03-4242-92dd-fdf252c2d2ce",
   "metadata": {},
   "outputs": [],
   "source": [
    "# 26. Print Patterns:"
   ]
  },
  {
   "cell_type": "code",
   "execution_count": 30,
   "id": "ce1d5029",
   "metadata": {},
   "outputs": [
    {
     "name": "stdin",
     "output_type": "stream",
     "text": [
      "enter of row:  22\n"
     ]
    },
    {
     "name": "stdout",
     "output_type": "stream",
     "text": [
      "*  \n",
      "*  *  \n",
      "*  *  *  \n",
      "*  *  *  *  \n",
      "*  *  *  *  *  \n",
      "*  *  *  *  *  *  \n",
      "*  *  *  *  *  *  *  \n",
      "*  *  *  *  *  *  *  *  \n",
      "*  *  *  *  *  *  *  *  *  \n",
      "*  *  *  *  *  *  *  *  *  *  \n",
      "*  *  *  *  *  *  *  *  *  *  *  \n",
      "*  *  *  *  *  *  *  *  *  *  *  *  \n",
      "*  *  *  *  *  *  *  *  *  *  *  *  *  \n",
      "*  *  *  *  *  *  *  *  *  *  *  *  *  *  \n",
      "*  *  *  *  *  *  *  *  *  *  *  *  *  *  *  \n",
      "*  *  *  *  *  *  *  *  *  *  *  *  *  *  *  *  \n",
      "*  *  *  *  *  *  *  *  *  *  *  *  *  *  *  *  *  \n",
      "*  *  *  *  *  *  *  *  *  *  *  *  *  *  *  *  *  *  \n",
      "*  *  *  *  *  *  *  *  *  *  *  *  *  *  *  *  *  *  *  \n",
      "*  *  *  *  *  *  *  *  *  *  *  *  *  *  *  *  *  *  *  *  \n",
      "*  *  *  *  *  *  *  *  *  *  *  *  *  *  *  *  *  *  *  *  *  \n",
      "*  *  *  *  *  *  *  *  *  *  *  *  *  *  *  *  *  *  *  *  *  *  \n"
     ]
    }
   ],
   "source": [
    "n=int(input(\"enter of row: \"))\n",
    "for n1 in range(1,n+1):\n",
    "    for column in range(1,n1+1):\n",
    "        print(\"*\",end=\"  \")\n",
    "    print()\n"
   ]
  },
  {
   "cell_type": "code",
   "execution_count": 31,
   "id": "4a8ad31d",
   "metadata": {},
   "outputs": [
    {
     "name": "stdin",
     "output_type": "stream",
     "text": [
      "enter of row:  5\n"
     ]
    },
    {
     "name": "stdout",
     "output_type": "stream",
     "text": [
      "* * * * * \n",
      "* * * * \n",
      "* * * \n",
      "* * \n",
      "* \n"
     ]
    }
   ],
   "source": [
    "n=int(input(\"enter of row: \"))\n",
    "for i in range(n):\n",
    "    for j in range(n-i):\n",
    "        print(\"*\",end=\" \")\n",
    "    print()"
   ]
  },
  {
   "cell_type": "code",
   "execution_count": null,
   "id": "1dc72254-0a65-4158-b3d6-48bd45139683",
   "metadata": {},
   "outputs": [],
   "source": [
    "# 27. Prime Number Checker"
   ]
  },
  {
   "cell_type": "code",
   "execution_count": 32,
   "id": "6962918f",
   "metadata": {},
   "outputs": [
    {
     "name": "stdin",
     "output_type": "stream",
     "text": [
      "enter number:  43\n"
     ]
    },
    {
     "name": "stdout",
     "output_type": "stream",
     "text": [
      "43 is prime number\n"
     ]
    }
   ],
   "source": [
    "a=int(input(\"enter number: \"))\n",
    "i=2\n",
    "n=0\n",
    "while i<a:\n",
    "    if a%i==0:\n",
    "        n=1\n",
    "        break\n",
    "    i=i+1\n",
    "if n==0:\n",
    "    print(a,\"is prime number\")\n",
    "elif n==1:\n",
    "    print(a, \"is not prime number\")\n",
    "    "
   ]
  },
  {
   "cell_type": "code",
   "execution_count": null,
   "id": "ebfbe2df-4e13-47ff-8247-dbbdf368bf3d",
   "metadata": {},
   "outputs": [],
   "source": [
    "# 28. List Manipulation:"
   ]
  },
  {
   "cell_type": "code",
   "execution_count": 35,
   "id": "48bf2127",
   "metadata": {},
   "outputs": [
    {
     "data": {
      "text/plain": [
       "'\\nn=int(input(\"Enter the number of elements: \"))\\nl1=list()\\nfor i in range(n):\\n    element=int(input(\"Enter the numbers: \"))\\n    l1.append(element)\\n    \\ns =sum(l1)\\nmi=min(l1)\\nmx=max(l1)\\navg=s/len(l1)\\n\\nprint(\"sum of numbers is: \",s)\\nprint(\"minimum elements is: \",mi)\\nprint(\"maximum element is: \",mx)\\nprint(\"average is: \",avg)\\n'"
      ]
     },
     "execution_count": 35,
     "metadata": {},
     "output_type": "execute_result"
    }
   ],
   "source": [
    "\"\"\"\n",
    "n=int(input(\"Enter the number of elements: \"))\n",
    "l1=list()\n",
    "for i in range(n):\n",
    "    element=int(input(\"Enter the numbers: \"))\n",
    "    l1.append(element)\n",
    "    \n",
    "s =sum(l1)\n",
    "mi=min(l1)\n",
    "mx=max(l1)\n",
    "avg=s/len(l1)\n",
    "\n",
    "print(\"sum of numbers is: \",s)\n",
    "print(\"minimum elements is: \",mi)\n",
    "print(\"maximum element is: \",mx)\n",
    "print(\"average is: \",avg)\n",
    "\"\"\""
   ]
  },
  {
   "cell_type": "code",
   "execution_count": null,
   "id": "4bf5e726-0315-4b66-a3d1-4b3ca1d9e639",
   "metadata": {},
   "outputs": [],
   "source": [
    "# 29. Reverse String"
   ]
  },
  {
   "cell_type": "code",
   "execution_count": null,
   "id": "8930fab5",
   "metadata": {},
   "outputs": [],
   "source": [
    "name=\"Data Science\"\n",
    "output=\"\"\n",
    "i=len(name)-1\n",
    "while i>=0:\n",
    "    output=output+name[i]\n",
    "    i=i-1\n",
    "print(output)"
   ]
  },
  {
   "cell_type": "code",
   "execution_count": null,
   "id": "8f62c9cb-4cc5-4f6f-9f86-a0dd6915c735",
   "metadata": {},
   "outputs": [],
   "source": [
    "# 30. Multiplication Table:nested loops"
   ]
  },
  {
   "cell_type": "code",
   "execution_count": null,
   "id": "6072e271",
   "metadata": {},
   "outputs": [],
   "source": [
    "a=int(input(\"enter the number; \"))\n",
    "i=1\n",
    "while(i<11):\n",
    "    print(a ,\"X\",i,'=', a*i)\n",
    "    i=i+1 "
   ]
  },
  {
   "cell_type": "code",
   "execution_count": null,
   "id": "6c488fad-5be9-454e-beed-31947e2344fe",
   "metadata": {},
   "outputs": [],
   "source": [
    "# 31. Print Patterns"
   ]
  },
  {
   "cell_type": "code",
   "execution_count": null,
   "id": "bc1ed4c7",
   "metadata": {},
   "outputs": [],
   "source": [
    "n=int(input(\"enter of row: \"))\n",
    "for n1 in range(1,n+1):\n",
    "    for column in range(1,n1+1):\n",
    "        print(\"*\",end=\"  \")\n",
    "    print()"
   ]
  },
  {
   "cell_type": "code",
   "execution_count": null,
   "id": "1bbad140-375d-4e3a-901b-4bc4635c606e",
   "metadata": {},
   "outputs": [],
   "source": [
    "# 32. Matrix Multiplication:"
   ]
  },
  {
   "cell_type": "code",
   "execution_count": null,
   "id": "e5e28ca5",
   "metadata": {
    "scrolled": true
   },
   "outputs": [],
   "source": [
    "x=[[1,2,3],\n",
    "  [4,5,6],\n",
    "  [7,8,9]]\n",
    "y=[[1,2,3],\n",
    "  [4,5,6],\n",
    "  [7,8,9]]\n",
    "result=[[0,0,0],\n",
    "  [0,0,0],\n",
    "  [0,0,0]]\n",
    "for i in range(len(x)):\n",
    "    for j in range(len(y)):\n",
    "        for k in range(len(y)):\n",
    "            result[i][j]+=x[i][k]*y[k][j]\n",
    "for r in result:\n",
    "    print(r)"
   ]
  },
  {
   "cell_type": "code",
   "execution_count": null,
   "id": "6749b79f",
   "metadata": {},
   "outputs": [],
   "source": [
    "#33. Chessboard Pattern:"
   ]
  },
  {
   "cell_type": "code",
   "execution_count": null,
   "id": "82615d44-56ca-4f8c-86b1-8a1ec942a040",
   "metadata": {},
   "outputs": [],
   "source": [
    "# Number Pyramid: Write a Python program using nested loops to print a number pyramid like the following: 1 22 333 4444 55555 \n"
   ]
  },
  {
   "cell_type": "code",
   "execution_count": null,
   "id": "0754cd99",
   "metadata": {},
   "outputs": [],
   "source": [
    "for i in range(1,6):\n",
    "    for j in range(1,i+1):\n",
    "        print(i,end= \" \")\n",
    "    print()        \n",
    "    "
   ]
  },
  {
   "cell_type": "code",
   "execution_count": null,
   "id": "1ab5b9a3-9c9e-421e-9df8-4d5e8e42f646",
   "metadata": {},
   "outputs": [],
   "source": [
    "# 34. List Sum: Write a Python program to find the sum of all elements in a given list of integers."
   ]
  },
  {
   "cell_type": "code",
   "execution_count": null,
   "id": "d4f7995a",
   "metadata": {},
   "outputs": [],
   "source": [
    "list=[1,2,3,7]\n",
    "sum = 0\n",
    "for i in list:\n",
    "    sum = sum+i\n",
    "print(\"the sum is: \",sum)"
   ]
  },
  {
   "cell_type": "code",
   "execution_count": null,
   "id": "335aca56-923f-4f1d-938c-3b8d5d4151e4",
   "metadata": {},
   "outputs": [],
   "source": [
    "# 35. List Average: Write a Python program to calculate the average of all elements in a given list of integers."
   ]
  },
  {
   "cell_type": "code",
   "execution_count": null,
   "id": "a2017207",
   "metadata": {},
   "outputs": [],
   "source": [
    "list1=[10,20,30,40]\n",
    "sum_of_elements= sum(list1)\n",
    "len_of_list1=len(list1)\n",
    "avg=sum_of_elements/len_of_list1\n",
    "print(\"average of given numbers in list is;\", avg)"
   ]
  },
  {
   "cell_type": "code",
   "execution_count": null,
   "id": "2c8cbb57-9184-4b07-8a39-1a16b4bef022",
   "metadata": {},
   "outputs": [],
   "source": [
    "# 36. List Max and Min: Write a Python program to find the maximum and minimum values in a given list of integers."
   ]
  },
  {
   "cell_type": "code",
   "execution_count": null,
   "id": "c6f27e7e",
   "metadata": {},
   "outputs": [],
   "source": [
    "numbers=[5,3,8,6,9,12,5,11]\n",
    "min=numbers[0]\n",
    "max=numbers[0]\n",
    "for i in range (len(numbers)):\n",
    "    if numbers [i]>max:\n",
    "        max=numbers[i]\n",
    "    elif numbers[i] < min:\n",
    "        min=numbers[i]\n",
    "print(\"min:\",min)\n",
    "print(\"max:\",max)"
   ]
  },
  {
   "cell_type": "code",
   "execution_count": null,
   "id": "9bb864ef-c50c-41b6-98b5-5382c364a3cd",
   "metadata": {},
   "outputs": [],
   "source": [
    "# 37. List Sorting: Write a Python program to sort a list of integers in ascending order."
   ]
  },
  {
   "cell_type": "code",
   "execution_count": null,
   "id": "0152d408",
   "metadata": {},
   "outputs": [],
   "source": [
    "x=[12,13,8,3,7,24]\n",
    "x.sort()\n",
    "print(x)"
   ]
  },
  {
   "cell_type": "code",
   "execution_count": null,
   "id": "4fb4f4c1-8284-48b9-8715-56ec4b1cdbf9",
   "metadata": {},
   "outputs": [],
   "source": [
    "# 38. List Filtering: Given a list of integers, write a Python program to create a new list that contains only the even numbers from the original list."
   ]
  },
  {
   "cell_type": "code",
   "execution_count": null,
   "id": "3f3ceccf",
   "metadata": {},
   "outputs": [],
   "source": [
    "def even(x):\n",
    "    if x%2==0:\n",
    "        return True\n",
    "    return False\n",
    "list1={1,2,3,4,5,6,7,8,9}\n",
    "result=filter(even,list1)\n",
    "print(\"even numbers are : \", list(result))"
   ]
  },
  {
   "cell_type": "code",
   "execution_count": null,
   "id": "2e084245-e949-46fd-be14-869286c0ad1c",
   "metadata": {},
   "outputs": [],
   "source": [
    "# 39. List Reversal: Write a Python program to reverse a given list without using any built-in functions."
   ]
  },
  {
   "cell_type": "code",
   "execution_count": null,
   "id": "b5579e6b",
   "metadata": {},
   "outputs": [],
   "source": [
    "L=[1,2,3,4,5]\n",
    "print(L)\n",
    "temp=L[0]\n",
    "L[0]=L[4]\n",
    "L[4]=temp\n",
    "print(L)"
   ]
  },
  {
   "cell_type": "code",
   "execution_count": null,
   "id": "6d4a7046-44f0-4f64-b4ea-dcc7a43b6735",
   "metadata": {},
   "outputs": [],
   "source": [
    "# 40. List Manipulation: Given two lists of integers, write a Python program to create a new list that contains elements common to both lists."
   ]
  },
  {
   "cell_type": "code",
   "execution_count": null,
   "id": "011762d6",
   "metadata": {},
   "outputs": [],
   "source": [
    "list1=[1,2,3,4,5,6]\n",
    "list2=[7,8,93,2,4]\n",
    "for x in list1:\n",
    "    for y in list2:\n",
    "        if (x==y):\n",
    "            print(\"common elements is: \",x)"
   ]
  },
  {
   "cell_type": "markdown",
   "id": "9d7d45f8",
   "metadata": {},
   "source": [
    "# "
   ]
  }
 ],
 "metadata": {
  "kernelspec": {
   "display_name": "Python 3 (ipykernel)",
   "language": "python",
   "name": "python3"
  },
  "language_info": {
   "codemirror_mode": {
    "name": "ipython",
    "version": 3
   },
   "file_extension": ".py",
   "mimetype": "text/x-python",
   "name": "python",
   "nbconvert_exporter": "python",
   "pygments_lexer": "ipython3",
   "version": "3.11.7"
  }
 },
 "nbformat": 4,
 "nbformat_minor": 5
}
